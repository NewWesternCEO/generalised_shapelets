{
 "cells": [
  {
   "cell_type": "code",
   "execution_count": 1,
   "metadata": {},
   "outputs": [],
   "source": [
    "import sys;\n",
    "sys.path.append('../../')\n",
    "from definitions import *\n",
    "from notebooks.nb_imports import *"
   ]
  },
  {
   "cell_type": "code",
   "execution_count": 2,
   "metadata": {},
   "outputs": [],
   "source": [
    "from src.experiments.extractors import ExperimentToFrame\n",
    "from src.visualization.critial_difference import plot_cd_diagram"
   ]
  },
  {
   "cell_type": "markdown",
   "metadata": {},
   "source": [
    "# Depth Experiments"
   ]
  },
  {
   "cell_type": "markdown",
   "metadata": {},
   "source": [
    "## Time Augmentation Only"
   ]
  },
  {
   "cell_type": "code",
   "execution_count": 3,
   "metadata": {},
   "outputs": [],
   "source": [
    "df = ExperimentToFrame(ex_dir=MODELS_DIR + '/experiments/basic_order').generate_frame()\n",
    "df['tfms'] = df['tfms'].apply(str)"
   ]
  },
  {
   "cell_type": "code",
   "execution_count": 4,
   "metadata": {},
   "outputs": [
    {
     "data": {
      "text/html": [
       "<div>\n",
       "<style scoped>\n",
       "    .dataframe tbody tr th:only-of-type {\n",
       "        vertical-align: middle;\n",
       "    }\n",
       "\n",
       "    .dataframe tbody tr th {\n",
       "        vertical-align: top;\n",
       "    }\n",
       "\n",
       "    .dataframe thead th {\n",
       "        text-align: right;\n",
       "    }\n",
       "</style>\n",
       "<table border=\"1\" class=\"dataframe\">\n",
       "  <thead>\n",
       "    <tr style=\"text-align: right;\">\n",
       "      <th></th>\n",
       "      <th>ds_name</th>\n",
       "      <th>acc.mean</th>\n",
       "      <th>acc.original_split</th>\n",
       "      <th>acc.std</th>\n",
       "      <th>clf_key</th>\n",
       "      <th>depth</th>\n",
       "      <th>interval</th>\n",
       "      <th>logsig</th>\n",
       "      <th>metrics</th>\n",
       "      <th>multivariate</th>\n",
       "      <th>num_features</th>\n",
       "      <th>tfms</th>\n",
       "    </tr>\n",
       "  </thead>\n",
       "  <tbody>\n",
       "    <tr>\n",
       "      <th>1</th>\n",
       "      <td>ACSF1</td>\n",
       "      <td>0.414124</td>\n",
       "      <td>0.480000</td>\n",
       "      <td>0.056284</td>\n",
       "      <td>rf</td>\n",
       "      <td>1</td>\n",
       "      <td>False</td>\n",
       "      <td>False</td>\n",
       "      <td>(acc)</td>\n",
       "      <td>False</td>\n",
       "      <td>2.0</td>\n",
       "      <td>['leadlag']</td>\n",
       "    </tr>\n",
       "    <tr>\n",
       "      <th>2</th>\n",
       "      <td>ACSF1</td>\n",
       "      <td>0.417132</td>\n",
       "      <td>0.480000</td>\n",
       "      <td>0.057034</td>\n",
       "      <td>rf</td>\n",
       "      <td>1</td>\n",
       "      <td>False</td>\n",
       "      <td>True</td>\n",
       "      <td>(acc)</td>\n",
       "      <td>False</td>\n",
       "      <td>2.0</td>\n",
       "      <td>['leadlag']</td>\n",
       "    </tr>\n",
       "    <tr>\n",
       "      <th>3</th>\n",
       "      <td>Adiac</td>\n",
       "      <td>0.134427</td>\n",
       "      <td>0.130435</td>\n",
       "      <td>0.010332</td>\n",
       "      <td>rf</td>\n",
       "      <td>1</td>\n",
       "      <td>False</td>\n",
       "      <td>False</td>\n",
       "      <td>(acc)</td>\n",
       "      <td>False</td>\n",
       "      <td>2.0</td>\n",
       "      <td>['leadlag']</td>\n",
       "    </tr>\n",
       "    <tr>\n",
       "      <th>4</th>\n",
       "      <td>Adiac</td>\n",
       "      <td>0.134426</td>\n",
       "      <td>0.130435</td>\n",
       "      <td>0.010023</td>\n",
       "      <td>rf</td>\n",
       "      <td>1</td>\n",
       "      <td>False</td>\n",
       "      <td>True</td>\n",
       "      <td>(acc)</td>\n",
       "      <td>False</td>\n",
       "      <td>2.0</td>\n",
       "      <td>['leadlag']</td>\n",
       "    </tr>\n",
       "    <tr>\n",
       "      <th>5</th>\n",
       "      <td>ArrowHead</td>\n",
       "      <td>0.415392</td>\n",
       "      <td>0.457143</td>\n",
       "      <td>0.041987</td>\n",
       "      <td>rf</td>\n",
       "      <td>1</td>\n",
       "      <td>False</td>\n",
       "      <td>False</td>\n",
       "      <td>(acc)</td>\n",
       "      <td>False</td>\n",
       "      <td>2.0</td>\n",
       "      <td>['leadlag']</td>\n",
       "    </tr>\n",
       "    <tr>\n",
       "      <th>6</th>\n",
       "      <td>ArrowHead</td>\n",
       "      <td>0.415392</td>\n",
       "      <td>0.457143</td>\n",
       "      <td>0.041987</td>\n",
       "      <td>rf</td>\n",
       "      <td>1</td>\n",
       "      <td>False</td>\n",
       "      <td>True</td>\n",
       "      <td>(acc)</td>\n",
       "      <td>False</td>\n",
       "      <td>2.0</td>\n",
       "      <td>['leadlag']</td>\n",
       "    </tr>\n",
       "    <tr>\n",
       "      <th>7</th>\n",
       "      <td>Beef</td>\n",
       "      <td>0.385000</td>\n",
       "      <td>0.400000</td>\n",
       "      <td>0.080777</td>\n",
       "      <td>rf</td>\n",
       "      <td>1</td>\n",
       "      <td>False</td>\n",
       "      <td>False</td>\n",
       "      <td>(acc)</td>\n",
       "      <td>False</td>\n",
       "      <td>2.0</td>\n",
       "      <td>['leadlag']</td>\n",
       "    </tr>\n",
       "    <tr>\n",
       "      <th>8</th>\n",
       "      <td>Beef</td>\n",
       "      <td>0.385000</td>\n",
       "      <td>0.400000</td>\n",
       "      <td>0.080777</td>\n",
       "      <td>rf</td>\n",
       "      <td>1</td>\n",
       "      <td>False</td>\n",
       "      <td>True</td>\n",
       "      <td>(acc)</td>\n",
       "      <td>False</td>\n",
       "      <td>2.0</td>\n",
       "      <td>['leadlag']</td>\n",
       "    </tr>\n",
       "    <tr>\n",
       "      <th>9</th>\n",
       "      <td>BeetleFly</td>\n",
       "      <td>0.558791</td>\n",
       "      <td>0.500000</td>\n",
       "      <td>0.101524</td>\n",
       "      <td>rf</td>\n",
       "      <td>1</td>\n",
       "      <td>False</td>\n",
       "      <td>False</td>\n",
       "      <td>(acc)</td>\n",
       "      <td>False</td>\n",
       "      <td>2.0</td>\n",
       "      <td>['leadlag']</td>\n",
       "    </tr>\n",
       "    <tr>\n",
       "      <th>10</th>\n",
       "      <td>BeetleFly</td>\n",
       "      <td>0.551648</td>\n",
       "      <td>0.500000</td>\n",
       "      <td>0.102887</td>\n",
       "      <td>rf</td>\n",
       "      <td>1</td>\n",
       "      <td>False</td>\n",
       "      <td>True</td>\n",
       "      <td>(acc)</td>\n",
       "      <td>False</td>\n",
       "      <td>2.0</td>\n",
       "      <td>['leadlag']</td>\n",
       "    </tr>\n",
       "  </tbody>\n",
       "</table>\n",
       "</div>"
      ],
      "text/plain": [
       "      ds_name  acc.mean  acc.original_split   acc.std clf_key depth interval  \\\n",
       "1       ACSF1  0.414124            0.480000  0.056284      rf     1    False   \n",
       "2       ACSF1  0.417132            0.480000  0.057034      rf     1    False   \n",
       "3       Adiac  0.134427            0.130435  0.010332      rf     1    False   \n",
       "4       Adiac  0.134426            0.130435  0.010023      rf     1    False   \n",
       "5   ArrowHead  0.415392            0.457143  0.041987      rf     1    False   \n",
       "6   ArrowHead  0.415392            0.457143  0.041987      rf     1    False   \n",
       "7        Beef  0.385000            0.400000  0.080777      rf     1    False   \n",
       "8        Beef  0.385000            0.400000  0.080777      rf     1    False   \n",
       "9   BeetleFly  0.558791            0.500000  0.101524      rf     1    False   \n",
       "10  BeetleFly  0.551648            0.500000  0.102887      rf     1    False   \n",
       "\n",
       "   logsig metrics multivariate  num_features         tfms  \n",
       "1   False   (acc)        False           2.0  ['leadlag']  \n",
       "2    True   (acc)        False           2.0  ['leadlag']  \n",
       "3   False   (acc)        False           2.0  ['leadlag']  \n",
       "4    True   (acc)        False           2.0  ['leadlag']  \n",
       "5   False   (acc)        False           2.0  ['leadlag']  \n",
       "6    True   (acc)        False           2.0  ['leadlag']  \n",
       "7   False   (acc)        False           2.0  ['leadlag']  \n",
       "8    True   (acc)        False           2.0  ['leadlag']  \n",
       "9   False   (acc)        False           2.0  ['leadlag']  \n",
       "10   True   (acc)        False           2.0  ['leadlag']  "
      ]
     },
     "execution_count": 4,
     "metadata": {},
     "output_type": "execute_result"
    }
   ],
   "source": [
    "df.drop('cv_params', axis=1).iloc[0:10]"
   ]
  },
  {
   "cell_type": "markdown",
   "metadata": {},
   "source": [
    "### CD diagram"
   ]
  },
  {
   "cell_type": "code",
   "execution_count": 5,
   "metadata": {},
   "outputs": [],
   "source": [
    "df_new = df[['ds_name', 'depth', 'acc.mean']][df['logsig'] == False].set_index('ds_name').pivot(columns='depth')"
   ]
  },
  {
   "cell_type": "code",
   "execution_count": 7,
   "metadata": {},
   "outputs": [
    {
     "data": {
      "text/html": [
       "<div>\n",
       "<style scoped>\n",
       "    .dataframe tbody tr th:only-of-type {\n",
       "        vertical-align: middle;\n",
       "    }\n",
       "\n",
       "    .dataframe tbody tr th {\n",
       "        vertical-align: top;\n",
       "    }\n",
       "\n",
       "    .dataframe thead th {\n",
       "        text-align: right;\n",
       "    }\n",
       "</style>\n",
       "<table border=\"1\" class=\"dataframe\">\n",
       "  <thead>\n",
       "    <tr style=\"text-align: right;\">\n",
       "      <th>depth</th>\n",
       "      <th>1</th>\n",
       "      <th>2</th>\n",
       "      <th>3</th>\n",
       "      <th>4</th>\n",
       "    </tr>\n",
       "    <tr>\n",
       "      <th>ds_name</th>\n",
       "      <th></th>\n",
       "      <th></th>\n",
       "      <th></th>\n",
       "      <th></th>\n",
       "    </tr>\n",
       "  </thead>\n",
       "  <tbody>\n",
       "    <tr>\n",
       "      <th>ACSF1</th>\n",
       "      <td>0.414124</td>\n",
       "      <td>0.577214</td>\n",
       "      <td>0.699941</td>\n",
       "      <td>0.723397</td>\n",
       "    </tr>\n",
       "    <tr>\n",
       "      <th>Adiac</th>\n",
       "      <td>0.134427</td>\n",
       "      <td>0.345283</td>\n",
       "      <td>0.462700</td>\n",
       "      <td>0.480474</td>\n",
       "    </tr>\n",
       "    <tr>\n",
       "      <th>ArrowHead</th>\n",
       "      <td>0.415392</td>\n",
       "      <td>0.609851</td>\n",
       "      <td>0.657143</td>\n",
       "      <td>0.674837</td>\n",
       "    </tr>\n",
       "    <tr>\n",
       "      <th>Beef</th>\n",
       "      <td>0.385000</td>\n",
       "      <td>0.470000</td>\n",
       "      <td>0.496667</td>\n",
       "      <td>0.528333</td>\n",
       "    </tr>\n",
       "    <tr>\n",
       "      <th>BeetleFly</th>\n",
       "      <td>0.558791</td>\n",
       "      <td>0.759066</td>\n",
       "      <td>0.835934</td>\n",
       "      <td>0.816648</td>\n",
       "    </tr>\n",
       "    <tr>\n",
       "      <th>Coffee</th>\n",
       "      <td>0.456140</td>\n",
       "      <td>0.884545</td>\n",
       "      <td>0.903906</td>\n",
       "      <td>0.903906</td>\n",
       "    </tr>\n",
       "    <tr>\n",
       "      <th>Crop</th>\n",
       "      <td>0.144935</td>\n",
       "      <td>0.349908</td>\n",
       "      <td>0.472252</td>\n",
       "      <td>0.545032</td>\n",
       "    </tr>\n",
       "  </tbody>\n",
       "</table>\n",
       "</div>"
      ],
      "text/plain": [
       "depth             1         2         3         4\n",
       "ds_name                                          \n",
       "ACSF1      0.414124  0.577214  0.699941  0.723397\n",
       "Adiac      0.134427  0.345283  0.462700  0.480474\n",
       "ArrowHead  0.415392  0.609851  0.657143  0.674837\n",
       "Beef       0.385000  0.470000  0.496667  0.528333\n",
       "BeetleFly  0.558791  0.759066  0.835934  0.816648\n",
       "Coffee     0.456140  0.884545  0.903906  0.903906\n",
       "Crop       0.144935  0.349908  0.472252  0.545032"
      ]
     },
     "execution_count": 7,
     "metadata": {},
     "output_type": "execute_result"
    }
   ],
   "source": [
    "df_new"
   ]
  },
  {
   "cell_type": "code",
   "execution_count": 6,
   "metadata": {},
   "outputs": [
    {
     "data": {
      "image/png": "[encoded data removed]",
      "text/plain": [
       "<Figure size 648x111.6 with 1 Axes>"
      ]
     },
     "metadata": {},
     "output_type": "display_data"
    }
   ],
   "source": [
    "# df_new = df[['ds_name', 'logsig', 'acc.mean']].set_index('ds_name').pivot(columns='logsig')\n",
    "df_new.columns = df_new.columns.droplevel(0)\n",
    "plot_cd_diagram(df_new);"
   ]
  },
  {
   "cell_type": "code",
   "execution_count": 22,
   "metadata": {},
   "outputs": [
    {
     "name": "stdout",
     "output_type": "stream",
     "text": [
      "logsig\n",
      "False    0.560923\n",
      "True     0.559908\n",
      "Name: acc.mean, dtype: float64\n"
     ]
    }
   ],
   "source": [
    "# Plot avg accuracy across all datasets as we increase time\n",
    "averaged = get_averaged_groupby(df, 'logsig', 'acc.mean')\n",
    "print(averaged)"
   ]
  },
  {
   "cell_type": "markdown",
   "metadata": {},
   "source": [
    "Lets look at Basic motions for different orders"
   ]
  },
  {
   "cell_type": "code",
   "execution_count": 6,
   "metadata": {},
   "outputs": [
    {
     "name": "stdout",
     "output_type": "stream",
     "text": [
      "4    7\n",
      "dtype: int64\n"
     ]
    }
   ],
   "source": [
    "wins = get_num_wins(df, metric='acc.mean', column='depth')\n",
    "print(wins)"
   ]
  },
  {
   "cell_type": "code",
   "execution_count": null,
   "metadata": {},
   "outputs": [],
   "source": []
  }
 ],
 "metadata": {
  "kernelspec": {
   "display_name": "Python 3",
   "language": "python",
   "name": "python3"
  },
  "language_info": {
   "codemirror_mode": {
    "name": "ipython",
    "version": 3
   },
   "file_extension": ".py",
   "mimetype": "text/x-python",
   "name": "python",
   "nbconvert_exporter": "python",
   "pygments_lexer": "ipython3",
   "version": "3.7.4"
  }
 },
 "nbformat": 4,
 "nbformat_minor": 4
}
