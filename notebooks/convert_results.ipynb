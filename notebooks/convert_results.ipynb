{
 "cells": [
  {
   "cell_type": "code",
   "execution_count": null,
   "metadata": {},
   "outputs": [],
   "source": [
    "import sys; sys.path.append('../')\n",
    "import os"
   ]
  },
  {
   "cell_type": "code",
   "execution_count": null,
   "metadata": {},
   "outputs": [],
   "source": [
    "import numpy as np\n",
    "import pandas as pd\n",
    "from experiments.parse_results import load_pickle"
   ]
  },
  {
   "cell_type": "code",
   "execution_count": null,
   "metadata": {},
   "outputs": [],
   "source": [
    "RESULTS_DIR = '../experiments/results/dataframes'\n",
    "SAVE_DIR = '../paper/results/data'"
   ]
  },
  {
   "cell_type": "code",
   "execution_count": null,
   "metadata": {},
   "outputs": [],
   "source": [
    "def write_string(save_loc, string):\n",
    "    with open(save_loc, \"w\") as file:\n",
    "        file.write(string)\n",
    "    file.close()"
   ]
  },
  {
   "cell_type": "markdown",
   "metadata": {},
   "source": [
    "# Convert Results into Latex Tables"
   ]
  },
  {
   "cell_type": "code",
   "execution_count": 12,
   "metadata": {},
   "outputs": [],
   "source": [
    "run_names = os.listdir(RESULTS_DIR)\n",
    "run_name = run_names[1]"
   ]
  },
  {
   "cell_type": "code",
   "execution_count": 13,
   "metadata": {},
   "outputs": [],
   "source": [
    "# Get means and wins\n",
    "means = load_pickle(RESULTS_DIR + '/' + run_name + '/means.pkl').round(3)\n",
    "wins = load_pickle(RESULTS_DIR + '/' + run_name + '/wins.pkl')"
   ]
  },
  {
   "cell_type": "code",
   "execution_count": 14,
   "metadata": {},
   "outputs": [],
   "source": [
    "# Some params\n",
    "n_cols = len(means.columns)"
   ]
  },
  {
   "cell_type": "code",
   "execution_count": 15,
   "metadata": {},
   "outputs": [],
   "source": [
    "# Convert onto a win frame\n",
    "column_format = 'l' + 'c' * n_cols\n",
    "top_section = means.to_latex(float_format=\"%.3f\", column_format=column_format, na_rep='-').split('\\\\\\\\\\n\\\\bottom')[0]\n",
    "bottom_section = 'Wins' + wins.to_latex().split('Wins')[1]\n",
    "tex_string = top_section + '\\\\\\\\ \\n\\midrule\\n' + bottom_section"
   ]
  },
  {
   "cell_type": "code",
   "execution_count": 16,
   "metadata": {},
   "outputs": [],
   "source": [
    "# Write the table\n",
    "save_loc = SAVE_DIR + '/{}.tex'.format(run_name)\n",
    "write_string(save_loc, tex_string)"
   ]
  },
  {
   "cell_type": "code",
   "execution_count": null,
   "metadata": {},
   "outputs": [],
   "source": []
  }
 ],
 "metadata": {
  "kernelspec": {
   "display_name": "generalised_shapelets",
   "language": "python",
   "name": "generalised_shapelets"
  },
  "language_info": {
   "codemirror_mode": {
    "name": "ipython",
    "version": 3
   },
   "file_extension": ".py",
   "mimetype": "text/x-python",
   "name": "python",
   "nbconvert_exporter": "python",
   "pygments_lexer": "ipython3",
   "version": "3.7.6"
  }
 },
 "nbformat": 4,
 "nbformat_minor": 4
}
